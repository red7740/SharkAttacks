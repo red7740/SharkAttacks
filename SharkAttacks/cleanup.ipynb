{
 "cells": [
  {
   "cell_type": "code",
   "execution_count": 283,
   "metadata": {},
   "outputs": [],
   "source": [
    "import pandas as pd\n",
    "import numpy as np\n",
    "import re\n",
    "\n",
    "data = pd.read_csv('C:/Users/red7740/Desktop/SharkAttacks/shark_attack_data.csv',encoding='latin-1')\n",
    "del data['Date.1']\n",
    "del data['Activity.1']\n",
    "del data['Area.1']\n",
    "del data['Location.1']\n",
    "del data['Fatal?.1']\n",
    "del data['Incident Type.1']\n",
    "del data['Unnamed: 0']\n",
    "data['Country'] = 'USA'\n",
    "#data.Activity.fillna('',inplace=True)\n",
    "#data.Sex.fillna('',inplace=True)"
   ]
  },
  {
   "cell_type": "code",
   "execution_count": 284,
   "metadata": {},
   "outputs": [],
   "source": [
    "#make an age set\n",
    "data.Age.fillna(0,inplace=True) #NaN vals -> 0\n",
    "ages = pd.DataFrame(data['Age'].value_counts()).reset_index()\n",
    "ages.columns = ['Age','Count']\n",
    "unknownage = ages.iloc[0]\n",
    "ages = ages[1:] #remove unkown age\n",
    "ages = ages.sort_values('Age').reset_index()\n",
    "del ages['index']\n"
   ]
  },
  {
   "cell_type": "code",
   "execution_count": 285,
   "metadata": {},
   "outputs": [],
   "source": [
    "ages['Age'] = ages['Age'].str.replace(r'(.{2})or.*', r'\\1')\n",
    "ages['Age'] = ages['Age'].str.replace(r'(.{2})&.*', r'\\1')\n",
    "ages['Age'] = ages['Age'].str.replace(r'(.{2})\\'s', r'\\1')\n",
    "ages['Age'] = ages['Age'].str.replace(r'(.{2})s', r'\\1')\n",
    "ages['Age'] = ages['Age'].str.replace(r'(6)[^0-9]', r'\\1')\n",
    "cats = ages[80:]\n",
    "ages = ages[:80]\n",
    "age_bins = {'Child':0,'Teen':0,'Young Adult':0,'Adult':0,'Seniors':0}\n",
    "for i in ages['Age']:\n",
    "    if int(i) < 10: \n",
    "        age_bins['Child'] += 1\n",
    "    elif int(i) < 18:\n",
    "        age_bins['Teen'] += 1\n",
    "    elif int(i) < 25:\n",
    "        age_bins['Young Adult'] += 1\n",
    "    elif int(i) < 65:\n",
    "        age_bins['Adult'] += 1\n",
    "    else:\n",
    "        age_bins['Seniors'] += 1\n"
   ]
  },
  {
   "cell_type": "code",
   "execution_count": 286,
   "metadata": {},
   "outputs": [],
   "source": [
    "age_bins['Unknown'] = unknownage['Count']\n"
   ]
  },
  {
   "cell_type": "code",
   "execution_count": 305,
   "metadata": {},
   "outputs": [
    {
     "data": {
      "text/plain": [
       "{'Count': {'Elderly': 1, 'Teen': 3, 'mid-30': 1, 'teen': 4, 'young': 1}}"
      ]
     },
     "execution_count": 305,
     "metadata": {},
     "output_type": "execute_result"
    }
   ],
   "source": [
    "#cats = cats.set_index('Age')\n",
    "#cats = cats.to_dict()\n",
    "\n",
    "mykeys = list(cats['Count'].keys())\n",
    "mykeys\n",
    "cats\n"
   ]
  },
  {
   "cell_type": "code",
   "execution_count": 307,
   "metadata": {},
   "outputs": [
    {
     "ename": "TypeError",
     "evalue": "string indices must be integers",
     "output_type": "error",
     "traceback": [
      "\u001b[1;31m---------------------------------------------------------------------------\u001b[0m",
      "\u001b[1;31mTypeError\u001b[0m                                 Traceback (most recent call last)",
      "\u001b[1;32m<ipython-input-307-bd71dc568de2>\u001b[0m in \u001b[0;36m<module>\u001b[1;34m()\u001b[0m\n\u001b[0;32m      3\u001b[0m         \u001b[0mage_bins\u001b[0m\u001b[1;33m[\u001b[0m\u001b[1;34m'Teen'\u001b[0m\u001b[1;33m]\u001b[0m \u001b[1;33m+=\u001b[0m \u001b[0mcats\u001b[0m\u001b[1;33m[\u001b[0m\u001b[0mc\u001b[0m\u001b[1;33m]\u001b[0m\u001b[1;33m\u001b[0m\u001b[0m\n\u001b[0;32m      4\u001b[0m     \u001b[1;32melif\u001b[0m \u001b[0mc\u001b[0m  \u001b[1;33m==\u001b[0m \u001b[1;34m'Elderly'\u001b[0m\u001b[1;33m:\u001b[0m\u001b[1;33m\u001b[0m\u001b[0m\n\u001b[1;32m----> 5\u001b[1;33m         \u001b[0mage_bins\u001b[0m\u001b[1;33m[\u001b[0m\u001b[1;34m'Seniors'\u001b[0m\u001b[1;33m]\u001b[0m \u001b[1;33m+=\u001b[0m \u001b[0mc\u001b[0m\u001b[1;33m[\u001b[0m\u001b[1;34m'Count'\u001b[0m\u001b[1;33m]\u001b[0m\u001b[1;33m\u001b[0m\u001b[0m\n\u001b[0m\u001b[0;32m      6\u001b[0m     \u001b[1;32melif\u001b[0m \u001b[0mc\u001b[0m \u001b[1;33m==\u001b[0m \u001b[1;34m'young'\u001b[0m\u001b[1;33m:\u001b[0m\u001b[1;33m\u001b[0m\u001b[0m\n\u001b[0;32m      7\u001b[0m         \u001b[0mage_bins\u001b[0m\u001b[1;33m[\u001b[0m\u001b[1;34m'Child'\u001b[0m\u001b[1;33m]\u001b[0m \u001b[1;33m+=\u001b[0m \u001b[0mc\u001b[0m\u001b[1;33m[\u001b[0m\u001b[1;34m'Count'\u001b[0m\u001b[1;33m]\u001b[0m\u001b[1;33m\u001b[0m\u001b[0m\n",
      "\u001b[1;31mTypeError\u001b[0m: string indices must be integers"
     ]
    }
   ],
   "source": [
    "for c in cats['Count']:\n",
    "    if c == 'Teen' or c == 'teen':\n",
    "        age_bins['Teen'] += cats[c]\n",
    "    elif c  == 'Elderly':\n",
    "        age_bins['Seniors'] += c['Count']\n",
    "    elif c == 'young':\n",
    "        age_bins['Child'] += c['Count']\n",
    "    elif c == 'mid-30':\n",
    "        age_bins['Adult'] += c['Count']\n",
    "    print(c)"
   ]
  },
  {
   "cell_type": "code",
   "execution_count": 292,
   "metadata": {},
   "outputs": [
    {
     "data": {
      "text/plain": [
       "{'Adult': 44,\n",
       " 'Child': 7,\n",
       " 'Seniors': 10,\n",
       " 'Teen': 10,\n",
       " 'Unknown': 427,\n",
       " 'Young Adult': 9}"
      ]
     },
     "execution_count": 292,
     "metadata": {},
     "output_type": "execute_result"
    }
   ],
   "source": [
    "age_bins"
   ]
  },
  {
   "cell_type": "code",
   "execution_count": 281,
   "metadata": {},
   "outputs": [
    {
     "data": {
      "text/html": [
       "<div>\n",
       "<style>\n",
       "    .dataframe thead tr:only-child th {\n",
       "        text-align: right;\n",
       "    }\n",
       "\n",
       "    .dataframe thead th {\n",
       "        text-align: left;\n",
       "    }\n",
       "\n",
       "    .dataframe tbody tr th {\n",
       "        vertical-align: top;\n",
       "    }\n",
       "</style>\n",
       "<table border=\"1\" class=\"dataframe\">\n",
       "  <thead>\n",
       "    <tr style=\"text-align: right;\">\n",
       "      <th></th>\n",
       "      <th>Count</th>\n",
       "    </tr>\n",
       "    <tr>\n",
       "      <th>Age</th>\n",
       "      <th></th>\n",
       "    </tr>\n",
       "  </thead>\n",
       "  <tbody>\n",
       "    <tr>\n",
       "      <th>Elderly</th>\n",
       "      <td>1</td>\n",
       "    </tr>\n",
       "    <tr>\n",
       "      <th>Teen</th>\n",
       "      <td>3</td>\n",
       "    </tr>\n",
       "    <tr>\n",
       "      <th>mid-30</th>\n",
       "      <td>1</td>\n",
       "    </tr>\n",
       "    <tr>\n",
       "      <th>teen</th>\n",
       "      <td>4</td>\n",
       "    </tr>\n",
       "    <tr>\n",
       "      <th>young</th>\n",
       "      <td>1</td>\n",
       "    </tr>\n",
       "  </tbody>\n",
       "</table>\n",
       "</div>"
      ],
      "text/plain": [
       "         Count\n",
       "Age           \n",
       "Elderly      1\n",
       "Teen         3\n",
       "mid-30       1\n",
       "teen         4\n",
       "young        1"
      ]
     },
     "execution_count": 281,
     "metadata": {},
     "output_type": "execute_result"
    }
   ],
   "source": [
    "cats"
   ]
  },
  {
   "cell_type": "code",
   "execution_count": null,
   "metadata": {
    "collapsed": true
   },
   "outputs": [],
   "source": []
  }
 ],
 "metadata": {
  "kernelspec": {
   "display_name": "Python 3",
   "language": "python",
   "name": "python3"
  },
  "language_info": {
   "codemirror_mode": {
    "name": "ipython",
    "version": 3
   },
   "file_extension": ".py",
   "mimetype": "text/x-python",
   "name": "python",
   "nbconvert_exporter": "python",
   "pygments_lexer": "ipython3",
   "version": "3.6.1"
  }
 },
 "nbformat": 4,
 "nbformat_minor": 2
}
