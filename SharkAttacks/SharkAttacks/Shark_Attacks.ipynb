{
 "cells": [
  {
   "cell_type": "code",
   "execution_count": 50,
   "metadata": {
    "collapsed": true
   },
   "outputs": [],
   "source": [
    "import lxml\n",
    "from urllib import request\n",
    "from lxml import etree\n",
    "import pandas as pd\n",
    "import numpy as np\n",
    "from selenium import webdriver \n",
    "\n",
    "# Globals\n",
    "baseurl = r'http://www.sharkattackdata.com'\n",
    "headurl = baseurl + r'/place/united_states_of_america'\n",
    "path_to_chrome = 'C:/Users/red7740/Downloads/chromedriver.exe'"
   ]
  },
  {
   "cell_type": "code",
   "execution_count": 51,
   "metadata": {
    "collapsed": true
   },
   "outputs": [],
   "source": [
    "# Add options arguments for Chrome webdriver\n",
    "options = webdriver.ChromeOptions() # Assign a var name to options object\n",
    "options.add_argument('headless') # Prevent chrome from opening a GUI when called "
   ]
  },
  {
   "cell_type": "code",
   "execution_count": 52,
   "metadata": {
    "collapsed": true
   },
   "outputs": [],
   "source": [
    "def getHTML(url, browser):\n",
    "    '''\n",
    "    Returns inner html after JS executes\n",
    "    '''\n",
    "    # Load the page and scrape for data \n",
    "    browser.get(url)\n",
    "    innerHTML = browser.execute_script(\"return document.body.innerHTML\") #returns the inner HTML as a string\n",
    "    return innerHTML"
   ]
  },
  {
   "cell_type": "code",
   "execution_count": 60,
   "metadata": {},
   "outputs": [],
   "source": [
    "# Get the general shark attack data\n",
    "# assign Chrome webdriver object to variable name \n",
    "browser = webdriver.Chrome(executable_path=path_to_chrome,chrome_options=options)\n",
    "# Call our function to get the html string\n",
    "rootHTML = getHTML(headurl,browser)\n",
    "#close the browser\n",
    "browser.close()\n",
    "\n",
    "# Parse html string\n",
    "myETree = lxml.etree.HTML(rootHTML)\n",
    "# xpath for data\n",
    "heads = myETree.xpath('//thead/tr/th') #header names\n",
    "attacks = myETree.xpath('//tbody/tr/td') #root-level attack data\n",
    "links = myETree.xpath('//tbody/tr/td/a/@href') #click through links for detail data\n",
    "\n",
    "#convert column names to list\n",
    "headings=[]\n",
    "for h in heads:\n",
    "    headings.append(h.text)\n",
    "\n",
    "#convert data to list\n",
    "data=[]\n",
    "for a in attacks:\n",
    "    data.append(a.text)\n",
    "\n",
    "#convert links to list\n",
    "links = list(links)\n"
   ]
  },
  {
   "cell_type": "code",
   "execution_count": 61,
   "metadata": {
    "collapsed": true
   },
   "outputs": [],
   "source": [
    "# There is an empty value at the end of the headings list\n",
    "# where the url for details resides. We aren't keeping the\n",
    "# url in the data set, but need to name it to delete it later\n",
    "headings.pop() \n",
    "headings.append('url')"
   ]
  },
  {
   "cell_type": "code",
   "execution_count": 62,
   "metadata": {},
   "outputs": [],
   "source": [
    "# Massage Data into a pandas dataframe\n",
    "#get some numbers...\n",
    "ncols = len(headings) # length of headings list\n",
    "nrows = int(len(data)/len(headings)) # data is a 1-d list, so length of list / number of columns \n",
    "\n",
    "#Start with data -> numpy array -> reshape -> dataframe\n",
    "data = np.array(data) #list-> numpy array\n",
    "data = data.reshape(nrows,ncols)# reshape array using vals from above\n",
    "data = pd.DataFrame(data) #np.array -> dataframe"
   ]
  },
  {
   "cell_type": "code",
   "execution_count": 63,
   "metadata": {},
   "outputs": [
    {
     "data": {
      "text/html": [
       "<div>\n",
       "<style>\n",
       "    .dataframe thead tr:only-child th {\n",
       "        text-align: right;\n",
       "    }\n",
       "\n",
       "    .dataframe thead th {\n",
       "        text-align: left;\n",
       "    }\n",
       "\n",
       "    .dataframe tbody tr th {\n",
       "        vertical-align: top;\n",
       "    }\n",
       "</style>\n",
       "<table border=\"1\" class=\"dataframe\">\n",
       "  <thead>\n",
       "    <tr style=\"text-align: right;\">\n",
       "      <th></th>\n",
       "      <th>Date</th>\n",
       "      <th>Area</th>\n",
       "      <th>Location</th>\n",
       "      <th>Activity</th>\n",
       "      <th>Incident Type</th>\n",
       "      <th>Fatal?</th>\n",
       "    </tr>\n",
       "  </thead>\n",
       "  <tbody>\n",
       "    <tr>\n",
       "      <th>0</th>\n",
       "      <td>Unknown</td>\n",
       "      <td>Hawaii</td>\n",
       "      <td>Puna</td>\n",
       "      <td>None</td>\n",
       "      <td>Unprovoked</td>\n",
       "      <td>Non-fatal</td>\n",
       "    </tr>\n",
       "    <tr>\n",
       "      <th>1</th>\n",
       "      <td>Unknown</td>\n",
       "      <td>North Carolina</td>\n",
       "      <td>Somewhere between Hatteras and Beaufort</td>\n",
       "      <td>Swimming</td>\n",
       "      <td>Unprovoked</td>\n",
       "      <td>Non-fatal</td>\n",
       "    </tr>\n",
       "    <tr>\n",
       "      <th>2</th>\n",
       "      <td>Unknown</td>\n",
       "      <td>Florida</td>\n",
       "      <td>Gadsden Point, Tampa Bay</td>\n",
       "      <td>Fishing</td>\n",
       "      <td>Unprovoked</td>\n",
       "      <td>Non-fatal</td>\n",
       "    </tr>\n",
       "    <tr>\n",
       "      <th>3</th>\n",
       "      <td>Unknown</td>\n",
       "      <td>Florida</td>\n",
       "      <td>Palm Beach, Palm Beach County</td>\n",
       "      <td>Standing</td>\n",
       "      <td>Unprovoked</td>\n",
       "      <td>Non-fatal</td>\n",
       "    </tr>\n",
       "    <tr>\n",
       "      <th>4</th>\n",
       "      <td>Unknown</td>\n",
       "      <td>California</td>\n",
       "      <td>Capistrano, Orange County</td>\n",
       "      <td>None</td>\n",
       "      <td>Unprovoked</td>\n",
       "      <td>Non-fatal</td>\n",
       "    </tr>\n",
       "  </tbody>\n",
       "</table>\n",
       "</div>"
      ],
      "text/plain": [
       "      Date            Area                                 Location  Activity  \\\n",
       "0  Unknown          Hawaii                                     Puna      None   \n",
       "1  Unknown  North Carolina  Somewhere between Hatteras and Beaufort  Swimming   \n",
       "2  Unknown         Florida                 Gadsden Point, Tampa Bay   Fishing   \n",
       "3  Unknown         Florida            Palm Beach, Palm Beach County  Standing   \n",
       "4  Unknown      California                Capistrano, Orange County      None   \n",
       "\n",
       "  Incident Type     Fatal?  \n",
       "0    Unprovoked  Non-fatal  \n",
       "1    Unprovoked  Non-fatal  \n",
       "2    Unprovoked  Non-fatal  \n",
       "3    Unprovoked  Non-fatal  \n",
       "4    Unprovoked  Non-fatal  "
      ]
     },
     "execution_count": 63,
     "metadata": {},
     "output_type": "execute_result"
    }
   ],
   "source": [
    "# Assign column names\n",
    "data.columns = headings\n",
    "# delete that url column .. we stored it separately already\n",
    "del data['url']\n",
    "#General data on us shark attacks\n",
    "data.head()"
   ]
  },
  {
   "cell_type": "code",
   "execution_count": 64,
   "metadata": {},
   "outputs": [
    {
     "name": "stdout",
     "output_type": "stream",
     "text": [
      "Status: record 200 completed. 1457 remaining\n",
      "Status: record 400 completed. 1257 remaining\n",
      "Status: record 600 completed. 1057 remaining\n",
      "Status: record 800 completed. 857 remaining\n",
      "Status: record 1000 completed. 657 remaining\n",
      "Status: record 1200 completed. 457 remaining\n",
      "Status: record 1400 completed. 257 remaining\n",
      "Status: record 1600 completed. 57 remaining\n"
     ]
    }
   ],
   "source": [
    "#loop through detail urls and grab data\n",
    "detail_data = [] # data\n",
    "detail_headers = [] # column names\n",
    "count = 0 #counter for loop progress to display\n",
    "\n",
    "browser = webdriver.Chrome(executable_path=path_to_chrome,chrome_options=options)#open the browser again...\n",
    "\n",
    "for url in links:      \n",
    "    # Parse html string\n",
    "    myETree = lxml.etree.HTML(getHTML(baseurl+url,browser))\n",
    "    # xpath for data\n",
    "    dat = myETree.xpath('//tbody/tr/td')\n",
    "    \n",
    "    #convert data to list\n",
    "    details=[]\n",
    "    for d in dat:\n",
    "        details.append(d.text)\n",
    "        \n",
    "    #append details of each record to data list\n",
    "    detail_data.append(details)\n",
    "    \n",
    "    # First time through loop - grab headers\n",
    "    if count == 0: #change count var to boolean if count-print removed\n",
    "        # xpath for data\n",
    "        dat = myETree.xpath('//tbody/tr/th')\n",
    "        #convert data to list\n",
    "        detail_headers=[]\n",
    "        for d in dat:\n",
    "            detail_headers.append(d.text)\n",
    "            \n",
    "    # print progress tracking since this takes a long time to execute - \n",
    "    # can remove print for minor performance improvement without status tracking\n",
    "    count += 1\n",
    "    if (count % 200) == 0:\n",
    "        print(\"Status: record \" + str(count) + \" completed. \" + str(nrows - count) + \" remaining\")\n",
    "        \n",
    "# details -> dataframe     \n",
    "detail_data = pd.DataFrame(detail_data)\n",
    "detail_data.columns = detail_headers\n",
    "\n",
    "browser.close() # Close the browser... Finally done with it!\n"
   ]
  },
  {
   "cell_type": "code",
   "execution_count": 65,
   "metadata": {},
   "outputs": [
    {
     "data": {
      "text/html": [
       "<div>\n",
       "<style>\n",
       "    .dataframe thead tr:only-child th {\n",
       "        text-align: right;\n",
       "    }\n",
       "\n",
       "    .dataframe thead th {\n",
       "        text-align: left;\n",
       "    }\n",
       "\n",
       "    .dataframe tbody tr th {\n",
       "        vertical-align: top;\n",
       "    }\n",
       "</style>\n",
       "<table border=\"1\" class=\"dataframe\">\n",
       "  <thead>\n",
       "    <tr style=\"text-align: right;\">\n",
       "      <th></th>\n",
       "      <th>GSAF Case #</th>\n",
       "      <th>Date</th>\n",
       "      <th>Country</th>\n",
       "      <th>Area</th>\n",
       "      <th>Location</th>\n",
       "      <th>Activity</th>\n",
       "      <th>Name</th>\n",
       "      <th>Sex</th>\n",
       "      <th>Age</th>\n",
       "      <th>Injury</th>\n",
       "      <th>Time</th>\n",
       "      <th>Species</th>\n",
       "      <th>Investigator or Source</th>\n",
       "      <th>Fatal?</th>\n",
       "      <th>Incident Type</th>\n",
       "    </tr>\n",
       "  </thead>\n",
       "  <tbody>\n",
       "    <tr>\n",
       "      <th>0</th>\n",
       "      <td>ND.0010</td>\n",
       "      <td>Unknown</td>\n",
       "      <td>None</td>\n",
       "      <td>None</td>\n",
       "      <td>Puna</td>\n",
       "      <td>None</td>\n",
       "      <td>A chiefess</td>\n",
       "      <td>Female</td>\n",
       "      <td>None</td>\n",
       "      <td>Ankle bitten</td>\n",
       "      <td>None</td>\n",
       "      <td>None</td>\n",
       "      <td>Captain W. Young</td>\n",
       "      <td>Not fatal</td>\n",
       "      <td>Unprovoked</td>\n",
       "    </tr>\n",
       "    <tr>\n",
       "      <th>1</th>\n",
       "      <td>ND.0014</td>\n",
       "      <td>Unknown</td>\n",
       "      <td>None</td>\n",
       "      <td>None</td>\n",
       "      <td>Somewhere between Hatteras and Beaufort</td>\n",
       "      <td>Swimming</td>\n",
       "      <td>\"youthful male\"</td>\n",
       "      <td>Male</td>\n",
       "      <td>None</td>\n",
       "      <td>\"Lost leg\"</td>\n",
       "      <td>None</td>\n",
       "      <td>None</td>\n",
       "      <td>C. Creswell, GSAF; Wilmington Star, 7/17/1916</td>\n",
       "      <td>Not fatal</td>\n",
       "      <td>Unprovoked</td>\n",
       "    </tr>\n",
       "    <tr>\n",
       "      <th>2</th>\n",
       "      <td>ND.0019</td>\n",
       "      <td>Unknown</td>\n",
       "      <td>None</td>\n",
       "      <td>None</td>\n",
       "      <td>Gadsden Point, Tampa Bay</td>\n",
       "      <td>Fishing</td>\n",
       "      <td>James Kelley</td>\n",
       "      <td>Male</td>\n",
       "      <td>None</td>\n",
       "      <td>2-inch lacerations</td>\n",
       "      <td>None</td>\n",
       "      <td>None</td>\n",
       "      <td>T. Helm, p.219</td>\n",
       "      <td>Not fatal</td>\n",
       "      <td>Unprovoked</td>\n",
       "    </tr>\n",
       "    <tr>\n",
       "      <th>3</th>\n",
       "      <td>ND.0056</td>\n",
       "      <td>Unknown</td>\n",
       "      <td>None</td>\n",
       "      <td>None</td>\n",
       "      <td>Palm Beach, Palm Beach County</td>\n",
       "      <td>Standing</td>\n",
       "      <td>Horton Chase</td>\n",
       "      <td>Male</td>\n",
       "      <td>None</td>\n",
       "      <td>Abrasions &amp; bruises hip to ankle</td>\n",
       "      <td>None</td>\n",
       "      <td>None</td>\n",
       "      <td>V.M. Coppleson (1956), p.255;  R.F. Hutton</td>\n",
       "      <td>Not fatal</td>\n",
       "      <td>Unprovoked</td>\n",
       "    </tr>\n",
       "    <tr>\n",
       "      <th>4</th>\n",
       "      <td>ND.0060</td>\n",
       "      <td>Unknown</td>\n",
       "      <td>None</td>\n",
       "      <td>None</td>\n",
       "      <td>Capistrano, Orange County</td>\n",
       "      <td>None</td>\n",
       "      <td>girl</td>\n",
       "      <td>Female</td>\n",
       "      <td>None</td>\n",
       "      <td>Leg injured</td>\n",
       "      <td>None</td>\n",
       "      <td>White shark, 1,900-lb</td>\n",
       "      <td>B. Walton, Sun (San Bernardino), 6/19/1959</td>\n",
       "      <td>Not fatal</td>\n",
       "      <td>Unprovoked</td>\n",
       "    </tr>\n",
       "  </tbody>\n",
       "</table>\n",
       "</div>"
      ],
      "text/plain": [
       "  GSAF Case #     Date Country  Area                                 Location  \\\n",
       "0     ND.0010  Unknown    None  None                                     Puna   \n",
       "1     ND.0014  Unknown    None  None  Somewhere between Hatteras and Beaufort   \n",
       "2     ND.0019  Unknown    None  None                 Gadsden Point, Tampa Bay   \n",
       "3     ND.0056  Unknown    None  None            Palm Beach, Palm Beach County   \n",
       "4     ND.0060  Unknown    None  None                Capistrano, Orange County   \n",
       "\n",
       "   Activity             Name     Sex   Age                            Injury  \\\n",
       "0      None       A chiefess  Female  None                      Ankle bitten   \n",
       "1  Swimming  \"youthful male\"    Male  None                        \"Lost leg\"   \n",
       "2   Fishing     James Kelley    Male  None                2-inch lacerations   \n",
       "3  Standing     Horton Chase    Male  None  Abrasions & bruises hip to ankle   \n",
       "4      None             girl  Female  None                       Leg injured   \n",
       "\n",
       "   Time                Species  \\\n",
       "0  None                   None   \n",
       "1  None                   None   \n",
       "2  None                   None   \n",
       "3  None                   None   \n",
       "4  None  White shark, 1,900-lb   \n",
       "\n",
       "                           Investigator or Source     Fatal? Incident Type  \n",
       "0                                Captain W. Young  Not fatal    Unprovoked  \n",
       "1  C. Creswell, GSAF; Wilmington Star, 7/17/1916   Not fatal    Unprovoked  \n",
       "2                                  T. Helm, p.219  Not fatal    Unprovoked  \n",
       "3      V.M. Coppleson (1956), p.255;  R.F. Hutton  Not fatal    Unprovoked  \n",
       "4     B. Walton, Sun (San Bernardino), 6/19/1959   Not fatal    Unprovoked  "
      ]
     },
     "execution_count": 65,
     "metadata": {},
     "output_type": "execute_result"
    }
   ],
   "source": [
    "#Here is the detail-level data for each of the records in the general data\n",
    "detail_data.head()"
   ]
  },
  {
   "cell_type": "code",
   "execution_count": 66,
   "metadata": {},
   "outputs": [
    {
     "data": {
      "text/html": [
       "<div>\n",
       "<style>\n",
       "    .dataframe thead tr:only-child th {\n",
       "        text-align: right;\n",
       "    }\n",
       "\n",
       "    .dataframe thead th {\n",
       "        text-align: left;\n",
       "    }\n",
       "\n",
       "    .dataframe tbody tr th {\n",
       "        vertical-align: top;\n",
       "    }\n",
       "</style>\n",
       "<table border=\"1\" class=\"dataframe\">\n",
       "  <thead>\n",
       "    <tr style=\"text-align: right;\">\n",
       "      <th></th>\n",
       "      <th>GSAF Case #</th>\n",
       "      <th>Name</th>\n",
       "      <th>Sex</th>\n",
       "      <th>Age</th>\n",
       "      <th>Injury</th>\n",
       "      <th>Time</th>\n",
       "      <th>Species</th>\n",
       "      <th>Investigator or Source</th>\n",
       "      <th>Country</th>\n",
       "    </tr>\n",
       "  </thead>\n",
       "  <tbody>\n",
       "    <tr>\n",
       "      <th>0</th>\n",
       "      <td>ND.0010</td>\n",
       "      <td>A chiefess</td>\n",
       "      <td>Female</td>\n",
       "      <td>None</td>\n",
       "      <td>Ankle bitten</td>\n",
       "      <td>None</td>\n",
       "      <td>None</td>\n",
       "      <td>Captain W. Young</td>\n",
       "      <td>USA</td>\n",
       "    </tr>\n",
       "    <tr>\n",
       "      <th>1</th>\n",
       "      <td>ND.0014</td>\n",
       "      <td>\"youthful male\"</td>\n",
       "      <td>Male</td>\n",
       "      <td>None</td>\n",
       "      <td>\"Lost leg\"</td>\n",
       "      <td>None</td>\n",
       "      <td>None</td>\n",
       "      <td>C. Creswell, GSAF; Wilmington Star, 7/17/1916</td>\n",
       "      <td>USA</td>\n",
       "    </tr>\n",
       "    <tr>\n",
       "      <th>2</th>\n",
       "      <td>ND.0019</td>\n",
       "      <td>James Kelley</td>\n",
       "      <td>Male</td>\n",
       "      <td>None</td>\n",
       "      <td>2-inch lacerations</td>\n",
       "      <td>None</td>\n",
       "      <td>None</td>\n",
       "      <td>T. Helm, p.219</td>\n",
       "      <td>USA</td>\n",
       "    </tr>\n",
       "    <tr>\n",
       "      <th>3</th>\n",
       "      <td>ND.0056</td>\n",
       "      <td>Horton Chase</td>\n",
       "      <td>Male</td>\n",
       "      <td>None</td>\n",
       "      <td>Abrasions &amp; bruises hip to ankle</td>\n",
       "      <td>None</td>\n",
       "      <td>None</td>\n",
       "      <td>V.M. Coppleson (1956), p.255;  R.F. Hutton</td>\n",
       "      <td>USA</td>\n",
       "    </tr>\n",
       "    <tr>\n",
       "      <th>4</th>\n",
       "      <td>ND.0060</td>\n",
       "      <td>girl</td>\n",
       "      <td>Female</td>\n",
       "      <td>None</td>\n",
       "      <td>Leg injured</td>\n",
       "      <td>None</td>\n",
       "      <td>White shark, 1,900-lb</td>\n",
       "      <td>B. Walton, Sun (San Bernardino), 6/19/1959</td>\n",
       "      <td>USA</td>\n",
       "    </tr>\n",
       "  </tbody>\n",
       "</table>\n",
       "</div>"
      ],
      "text/plain": [
       "  GSAF Case #             Name     Sex   Age  \\\n",
       "0     ND.0010       A chiefess  Female  None   \n",
       "1     ND.0014  \"youthful male\"    Male  None   \n",
       "2     ND.0019     James Kelley    Male  None   \n",
       "3     ND.0056     Horton Chase    Male  None   \n",
       "4     ND.0060             girl  Female  None   \n",
       "\n",
       "                             Injury  Time                Species  \\\n",
       "0                      Ankle bitten  None                   None   \n",
       "1                        \"Lost leg\"  None                   None   \n",
       "2                2-inch lacerations  None                   None   \n",
       "3  Abrasions & bruises hip to ankle  None                   None   \n",
       "4                       Leg injured  None  White shark, 1,900-lb   \n",
       "\n",
       "                           Investigator or Source Country  \n",
       "0                                Captain W. Young     USA  \n",
       "1  C. Creswell, GSAF; Wilmington Star, 7/17/1916      USA  \n",
       "2                                  T. Helm, p.219     USA  \n",
       "3      V.M. Coppleson (1956), p.255;  R.F. Hutton     USA  \n",
       "4     B. Walton, Sun (San Bernardino), 6/19/1959      USA  "
      ]
     },
     "execution_count": 66,
     "metadata": {},
     "output_type": "execute_result"
    }
   ],
   "source": [
    "#This was predetermined to be true for all records, so put in a form we will use later\n",
    "detail_data.loc[:,'Country'] = 'USA' \n",
    "# Remove the duplicate columns from the detail set\n",
    "detail_data_temp = detail_data[['GSAF Case #','Name','Sex','Age','Injury','Time','Species','Investigator or Source','Country']]\n",
    "# Here is the final detail data\n",
    "detail_data_temp.head()"
   ]
  },
  {
   "cell_type": "code",
   "execution_count": 67,
   "metadata": {},
   "outputs": [],
   "source": [
    "# Merge the details onto the general data\n",
    "# This is the final set from the data collection stage\n",
    "shark_attack_data = pd.concat([data, detail_data_temp], axis=1) \n",
    "# Concat is on index, since we know we have the same number of \n",
    "# records for each set and that they are in the same order"
   ]
  },
  {
   "cell_type": "code",
   "execution_count": 68,
   "metadata": {},
   "outputs": [
    {
     "data": {
      "text/html": [
       "<div>\n",
       "<style>\n",
       "    .dataframe thead tr:only-child th {\n",
       "        text-align: right;\n",
       "    }\n",
       "\n",
       "    .dataframe thead th {\n",
       "        text-align: left;\n",
       "    }\n",
       "\n",
       "    .dataframe tbody tr th {\n",
       "        vertical-align: top;\n",
       "    }\n",
       "</style>\n",
       "<table border=\"1\" class=\"dataframe\">\n",
       "  <thead>\n",
       "    <tr style=\"text-align: right;\">\n",
       "      <th></th>\n",
       "      <th>Date</th>\n",
       "      <th>Area</th>\n",
       "      <th>Location</th>\n",
       "      <th>Activity</th>\n",
       "      <th>Incident Type</th>\n",
       "      <th>Fatal?</th>\n",
       "      <th>GSAF Case #</th>\n",
       "      <th>Name</th>\n",
       "      <th>Sex</th>\n",
       "      <th>Age</th>\n",
       "      <th>Injury</th>\n",
       "      <th>Time</th>\n",
       "      <th>Species</th>\n",
       "      <th>Investigator or Source</th>\n",
       "      <th>Country</th>\n",
       "    </tr>\n",
       "  </thead>\n",
       "  <tbody>\n",
       "    <tr>\n",
       "      <th>0</th>\n",
       "      <td>Unknown</td>\n",
       "      <td>Hawaii</td>\n",
       "      <td>Puna</td>\n",
       "      <td>None</td>\n",
       "      <td>Unprovoked</td>\n",
       "      <td>Non-fatal</td>\n",
       "      <td>ND.0010</td>\n",
       "      <td>A chiefess</td>\n",
       "      <td>Female</td>\n",
       "      <td>None</td>\n",
       "      <td>Ankle bitten</td>\n",
       "      <td>None</td>\n",
       "      <td>None</td>\n",
       "      <td>Captain W. Young</td>\n",
       "      <td>USA</td>\n",
       "    </tr>\n",
       "    <tr>\n",
       "      <th>1</th>\n",
       "      <td>Unknown</td>\n",
       "      <td>North Carolina</td>\n",
       "      <td>Somewhere between Hatteras and Beaufort</td>\n",
       "      <td>Swimming</td>\n",
       "      <td>Unprovoked</td>\n",
       "      <td>Non-fatal</td>\n",
       "      <td>ND.0014</td>\n",
       "      <td>\"youthful male\"</td>\n",
       "      <td>Male</td>\n",
       "      <td>None</td>\n",
       "      <td>\"Lost leg\"</td>\n",
       "      <td>None</td>\n",
       "      <td>None</td>\n",
       "      <td>C. Creswell, GSAF; Wilmington Star, 7/17/1916</td>\n",
       "      <td>USA</td>\n",
       "    </tr>\n",
       "    <tr>\n",
       "      <th>2</th>\n",
       "      <td>Unknown</td>\n",
       "      <td>Florida</td>\n",
       "      <td>Gadsden Point, Tampa Bay</td>\n",
       "      <td>Fishing</td>\n",
       "      <td>Unprovoked</td>\n",
       "      <td>Non-fatal</td>\n",
       "      <td>ND.0019</td>\n",
       "      <td>James Kelley</td>\n",
       "      <td>Male</td>\n",
       "      <td>None</td>\n",
       "      <td>2-inch lacerations</td>\n",
       "      <td>None</td>\n",
       "      <td>None</td>\n",
       "      <td>T. Helm, p.219</td>\n",
       "      <td>USA</td>\n",
       "    </tr>\n",
       "    <tr>\n",
       "      <th>3</th>\n",
       "      <td>Unknown</td>\n",
       "      <td>Florida</td>\n",
       "      <td>Palm Beach, Palm Beach County</td>\n",
       "      <td>Standing</td>\n",
       "      <td>Unprovoked</td>\n",
       "      <td>Non-fatal</td>\n",
       "      <td>ND.0056</td>\n",
       "      <td>Horton Chase</td>\n",
       "      <td>Male</td>\n",
       "      <td>None</td>\n",
       "      <td>Abrasions &amp; bruises hip to ankle</td>\n",
       "      <td>None</td>\n",
       "      <td>None</td>\n",
       "      <td>V.M. Coppleson (1956), p.255;  R.F. Hutton</td>\n",
       "      <td>USA</td>\n",
       "    </tr>\n",
       "    <tr>\n",
       "      <th>4</th>\n",
       "      <td>Unknown</td>\n",
       "      <td>California</td>\n",
       "      <td>Capistrano, Orange County</td>\n",
       "      <td>None</td>\n",
       "      <td>Unprovoked</td>\n",
       "      <td>Non-fatal</td>\n",
       "      <td>ND.0060</td>\n",
       "      <td>girl</td>\n",
       "      <td>Female</td>\n",
       "      <td>None</td>\n",
       "      <td>Leg injured</td>\n",
       "      <td>None</td>\n",
       "      <td>White shark, 1,900-lb</td>\n",
       "      <td>B. Walton, Sun (San Bernardino), 6/19/1959</td>\n",
       "      <td>USA</td>\n",
       "    </tr>\n",
       "  </tbody>\n",
       "</table>\n",
       "</div>"
      ],
      "text/plain": [
       "      Date            Area                                 Location  Activity  \\\n",
       "0  Unknown          Hawaii                                     Puna      None   \n",
       "1  Unknown  North Carolina  Somewhere between Hatteras and Beaufort  Swimming   \n",
       "2  Unknown         Florida                 Gadsden Point, Tampa Bay   Fishing   \n",
       "3  Unknown         Florida            Palm Beach, Palm Beach County  Standing   \n",
       "4  Unknown      California                Capistrano, Orange County      None   \n",
       "\n",
       "  Incident Type     Fatal? GSAF Case #             Name     Sex   Age  \\\n",
       "0    Unprovoked  Non-fatal     ND.0010       A chiefess  Female  None   \n",
       "1    Unprovoked  Non-fatal     ND.0014  \"youthful male\"    Male  None   \n",
       "2    Unprovoked  Non-fatal     ND.0019     James Kelley    Male  None   \n",
       "3    Unprovoked  Non-fatal     ND.0056     Horton Chase    Male  None   \n",
       "4    Unprovoked  Non-fatal     ND.0060             girl  Female  None   \n",
       "\n",
       "                             Injury  Time                Species  \\\n",
       "0                      Ankle bitten  None                   None   \n",
       "1                        \"Lost leg\"  None                   None   \n",
       "2                2-inch lacerations  None                   None   \n",
       "3  Abrasions & bruises hip to ankle  None                   None   \n",
       "4                       Leg injured  None  White shark, 1,900-lb   \n",
       "\n",
       "                           Investigator or Source Country  \n",
       "0                                Captain W. Young     USA  \n",
       "1  C. Creswell, GSAF; Wilmington Star, 7/17/1916      USA  \n",
       "2                                  T. Helm, p.219     USA  \n",
       "3      V.M. Coppleson (1956), p.255;  R.F. Hutton     USA  \n",
       "4     B. Walton, Sun (San Bernardino), 6/19/1959      USA  "
      ]
     },
     "execution_count": 68,
     "metadata": {},
     "output_type": "execute_result"
    }
   ],
   "source": [
    "#Double Check that the data is in the form we want\n",
    "shark_attack_data.head()"
   ]
  },
  {
   "cell_type": "code",
   "execution_count": 69,
   "metadata": {
    "collapsed": true
   },
   "outputs": [],
   "source": [
    "#Export the full data set to external storage for later analysis\n",
    "shark_attack_data.to_csv('./attackdata.csv')"
   ]
  },
  {
   "cell_type": "code",
   "execution_count": 73,
   "metadata": {},
   "outputs": [
    {
     "data": {
      "text/plain": [
       "{'Unprovoked': 1657}"
      ]
     },
     "execution_count": 73,
     "metadata": {},
     "output_type": "execute_result"
    }
   ],
   "source": [
    "# Were any of the attacks provoked? it turns out... no \n",
    "shark_attack_data['Incident Type'].value_counts().to_dict()"
   ]
  },
  {
   "cell_type": "code",
   "execution_count": 80,
   "metadata": {
    "collapsed": true
   },
   "outputs": [],
   "source": [
    "# Make an age set\n",
    "shark_attack_data.Age.fillna(0,inplace=True) #NaN vals -> 0\n",
    "# ages is our new condensed dataframe object for ages and freq. counts\n",
    "ages = pd.DataFrame(shark_attack_data['Age'].value_counts()).reset_index()\n",
    "#name columns\n",
    "ages.columns = ['Age','Count']\n",
    "#remove unknown age from ages df\n",
    "#and save separately for later\n",
    "unknownage = ages.iloc[0]\n",
    "ages = ages[1:] \n",
    "#sort ages to plot and re-zero the index...\n",
    "ages = ages.sort_values('Age').reset_index()\n",
    "del ages['index']\n"
   ]
  },
  {
   "cell_type": "code",
   "execution_count": 95,
   "metadata": {
    "collapsed": true
   },
   "outputs": [],
   "source": [
    "import re\n",
    "import seaborn as sns\n",
    "import matplotlib.pyplot as plt\n",
    "%matplotlib inline\n",
    "sns.set()"
   ]
  },
  {
   "cell_type": "code",
   "execution_count": 86,
   "metadata": {},
   "outputs": [],
   "source": [
    "#Some regular expressions to clean up the data in the age column\n",
    "shark_attack_data['Age'] = shark_attack_data['Age'].str.replace(r'(.{2})or.*', r'\\1')\n",
    "shark_attack_data['Age'] = shark_attack_data['Age'].str.replace(r'(.{2})&.*', r'\\1')\n",
    "shark_attack_data['Age'] = shark_attack_data['Age'].str.replace(r'(.{2})\\'s', r'\\1')\n",
    "shark_attack_data['Age'] = shark_attack_data['Age'].str.replace(r'(.{2})s', r'\\1')\n",
    "shark_attack_data['Age'] = shark_attack_data['Age'].str.replace(r'(6)[^0-9]', r'\\1')\n",
    "shark_attack_data['Age'] = shark_attack_data['Age'].str.replace(r'(young)', r'5') # hack to bin as child\n",
    "shark_attack_data['Age'] = shark_attack_data['Age'].str.replace(r'teen', r'15') # hack to bin as teen\n",
    "shark_attack_data['Age'] = shark_attack_data['Age'].str.replace(r'Teen', r'15') # hack to bin as teen\n",
    "shark_attack_data['Age'] = shark_attack_data['Age'].str.replace(r'Elderly', r'80') #hack to bin as senior\n",
    "shark_attack_data['Age'] = shark_attack_data['Age'].str.replace(r'mid-30', r'35') #hack to bin as senior\n",
    "shark_attack_data.Age.fillna(0,inplace=True) #NaN vals -> 0\n",
    "\n",
    "# Some values were already binned with a count, so separate them\n",
    "cats = ages[80:]\n",
    "ages = ages[:80]\n",
    "\n",
    "#Bin the rest of the records in the ages set\n",
    "#add a cin column to the data set\n",
    "shark_attack_data['agebin'] = ''\n",
    "\n",
    "#dictionary to hold binned data\n",
    "age_bins = {'Child':0,'Teen':0,'Young Adult':0,'Adult':0,'Seniors':0}\n",
    "\n",
    "for i in range(len(shark_attack_data['Age'])):\n",
    "    \n",
    "    if int(shark_attack_data['Age'][i]) <= 13: \n",
    "        age_bins['Child'] += 1\n",
    "        shark_attack_data['agebin'][i] = 'Child'\n",
    "    elif int(shark_attack_data['Age'][i]) <= 18:\n",
    "        age_bins['Teen'] += 1\n",
    "        shark_attack_data['agebin'][i] = 'Teen'\n",
    "    elif int(shark_attack_data['Age'][i]) <= 25:\n",
    "        age_bins['Young Adult'] += 1\n",
    "        shark_attack_data['agebin'][i] = 'Young Adult'\n",
    "    elif int(shark_attack_data['Age'][i]) <= 65:\n",
    "        age_bins['Adult'] += 1\n",
    "        shark_attack_data['agebin'][i] = 'Adult'\n",
    "    else:\n",
    "        age_bins['Seniors'] += 1\n",
    "        shark_attack_data['agebin'][i] = 'Seniors'\n"
   ]
  },
  {
   "cell_type": "code",
   "execution_count": 90,
   "metadata": {},
   "outputs": [
    {
     "data": {
      "text/plain": [
       "Child          626\n",
       "Adult          466\n",
       "Teen           274\n",
       "Young Adult    273\n",
       "Seniors         18\n",
       "Name: agebin, dtype: int64"
      ]
     },
     "execution_count": 90,
     "metadata": {},
     "output_type": "execute_result"
    }
   ],
   "source": [
    "shark_attack_data['agebin'].value_counts()"
   ]
  },
  {
   "cell_type": "code",
   "execution_count": 91,
   "metadata": {
    "collapsed": true
   },
   "outputs": [],
   "source": [
    "age_bins['Unknown'] = unknownage['Count']\n",
    "\n",
    "#hack for categorical data cleanup -- can't automate\n",
    "age_bins['Child'] += 1\n",
    "age_bins['Teen'] += 7\n",
    "age_bins['Young Adult'] += 1\n",
    "age_bins['Seniors'] += 1\n",
    "\n",
    "age_sum = sum(age_bins.values())"
   ]
  },
  {
   "cell_type": "code",
   "execution_count": 97,
   "metadata": {},
   "outputs": [
    {
     "data": {
      "text/plain": [
       "<matplotlib.figure.Figure at 0x151aab0d9e8>"
      ]
     },
     "metadata": {},
     "output_type": "display_data"
    },
    {
     "data": {
      "image/png": "[encoded data removed]",
      "text/plain": [
       "<matplotlib.figure.Figure at 0x151aab0dcc0>"
      ]
     },
     "metadata": {},
     "output_type": "display_data"
    }
   ],
   "source": [
    "fig = plt.figure(figsize=(11,11))\n",
    "a_vals = [a / age_sum for a in age_bins.values()]\n",
    "explode = (0.1, 0, 0, 0, 0, 0)  # only \"explode\" the 1st slice (i.e. 'Child')\n",
    "alabels = list(age_bins.keys())\n",
    "fig1, ax1 = plt.subplots()\n",
    "ax1.pie(a_vals, explode=explode, labels=alabels, autopct='%1.1f%%',\n",
    "        shadow=True, startangle=90)\n",
    "ax1.axis('equal')  # Equal aspect ratio ensures that pie is drawn as a circle.\n",
    "\n",
    "plt.show()"
   ]
  },
  {
   "cell_type": "code",
   "execution_count": 98,
   "metadata": {},
   "outputs": [],
   "source": [
    "#make Activity set\n",
    "by_activity = data['Activity'].value_counts().to_dict()"
   ]
  },
  {
   "cell_type": "code",
   "execution_count": 99,
   "metadata": {},
   "outputs": [],
   "source": [
    "data.Activity.fillna('',inplace=True) #NaN vals -> 0"
   ]
  },
  {
   "cell_type": "code",
   "execution_count": 108,
   "metadata": {
    "collapsed": true
   },
   "outputs": [],
   "source": [
    "#bin the incident types. We use snippets of words to catch misspellings\n",
    "#it works surprisingly well to clean up the activity column\n",
    "shark_attack_data['ActBin'] = ''\n",
    "for i in range(len(shark_attack_data['Activity'])):\n",
    "    f = shark_attack_data['Activity'][i]\n",
    "    if 'Swim' in str(f) or 'Swim' in str(f) or 'Escaping' in str(f) or 'Tread' in str(f):\n",
    "        shark_attack_data['ActBin'][i] = 'Swimming'\n",
    "    elif 'surf' in str(f) or 'Surf' in str(f) or 'board' in str(f) or 'Board' in str(f):\n",
    "        shark_attack_data['ActBin'][i] = 'Surfing'\n",
    "    elif 'Bath' in str(f) or 'bath' in str(f) or 'wad' in str(f) or 'Wad' in str(f) or 'walk' in str(f) or 'Walk' in str(f):\n",
    "        shark_attack_data['ActBin'][i] = 'Bathing'\n",
    "    elif 'div' in str(f) or 'ork' in str(f) or 'Div' in str(f):\n",
    "        shark_attack_data['ActBin'][i] = 'Diving' \n",
    "    elif 'fish' in str(f) or 'Fish' in str(f) or 'crab' in str(f) or 'Crab' in str(f) or 'net' in str(f) or 'Net' in str(f) or 'Clam' in str(f):\n",
    "        shark_attack_data['ActBin'][i] = 'Fishing'\n",
    "    elif 'boat' in str(f) or 'Boat' in str(f) or 'Sail' in str(f) or 'Vessel' in str(f) or 'Canoe' in str(f) or 'Kayak' in str(f) or 'overboard' in str(f) or 'capsized' in str(f) or 'Washed' in str(f):\n",
    "        shark_attack_data['ActBin'][i] = 'Boating'\n",
    "    elif 'Standing' in str(f):\n",
    "        shark_attack_data['ActBin'][i] = 'Standing'\n",
    "    elif 'Float' in str(f):\n",
    "        shark_attack_data['ActBin'][i] = 'Floating'\n",
    "    elif str(f) == '':\n",
    "        shark_attack_data['ActBin'][i] = 'Unknown'\n",
    "    else:\n",
    "        shark_attack_data['ActBin'][i] = 'Other'"
   ]
  },
  {
   "cell_type": "code",
   "execution_count": 109,
   "metadata": {},
   "outputs": [
    {
     "data": {
      "text/plain": [
       "{'3 men & 2 boys picked up wearing life jackets and with inner tube': 1,\n",
       " 'Adrift in a life jacket': 1,\n",
       " 'Attempting to rescue a shark': 1,\n",
       " 'Attempting to rescue woman seized by shark': 1,\n",
       " \"Crouching in 2' of water\": 1,\n",
       " 'Dangling feet in the water': 1,\n",
       " 'Hunting turtle': 1,\n",
       " 'In waist-deep water': 1,\n",
       " 'Jet skiing': 2,\n",
       " 'Jumped into the water': 2,\n",
       " 'Jumped off rocks into white water': 1,\n",
       " 'Jumping': 4,\n",
       " 'Jumping in the waves': 1,\n",
       " 'Kneeling in the water': 1,\n",
       " 'Knocked into the water': 1,\n",
       " \"Lying prone in 2' of water\": 1,\n",
       " 'On a float': 1,\n",
       " 'Photographing the shark': 1,\n",
       " 'Plane crashed in water, men in life raft': 1,\n",
       " 'Playing': 7,\n",
       " 'Playing / jumping': 1,\n",
       " 'Playing in knee-deep water': 1,\n",
       " 'Playing in the water': 1,\n",
       " 'Playing on a sandbar': 1,\n",
       " 'Playing soccer in the water': 1,\n",
       " 'Playing with a frisbee in the shallows': 1,\n",
       " 'Pulling raft out to ride to shore': 1,\n",
       " 'Riding floatation device': 1,\n",
       " 'Rolled off raft': 1,\n",
       " 'Shark tagging': 1,\n",
       " \"Sitting in 3' of water\": 1,\n",
       " 'Sitting in the water': 1,\n",
       " 'Sittting in water with his child': 1,\n",
       " 'Tagging sharks': 1,\n",
       " 'Water-skiing': 1}"
      ]
     },
     "execution_count": 109,
     "metadata": {},
     "output_type": "execute_result"
    }
   ],
   "source": [
    "interesting_activities = shark_attack_data[shark_attack_data['ActBin']=='Other']['Activity']\n",
    "interesting_activities.value_counts().to_dict()"
   ]
  },
  {
   "cell_type": "code",
   "execution_count": 110,
   "metadata": {
    "collapsed": true
   },
   "outputs": [],
   "source": [
    "# Take it a step further...\n",
    "# Look at Activity distribution between fatal and not fatal\n",
    "fatal_by_activity = shark_attack_data[['Fatal?','ActBin']]\n",
    "isfat = fatal_by_activity[fatal_by_activity['Fatal?'] == 'Fatal']['ActBin']\n",
    "notfat = fatal_by_activity[fatal_by_activity['Fatal?'] != 'Fatal']['ActBin']\n",
    "\n",
    "fat_bin_counts = isfat.value_counts().to_dict()\n",
    "not_fat_bin_counts  = notfat.value_counts().to_dict()"
   ]
  },
  {
   "cell_type": "code",
   "execution_count": 113,
   "metadata": {},
   "outputs": [
    {
     "data": {
      "text/plain": [
       "<matplotlib.text.Text at 0x151aab309e8>"
      ]
     },
     "execution_count": 113,
     "metadata": {},
     "output_type": "execute_result"
    },
    {
     "data": {
      "image/png": "[encoded data removed]",
      "text/plain": [
       "<matplotlib.figure.Figure at 0x151a86905f8>"
      ]
     },
     "metadata": {},
     "output_type": "display_data"
    }
   ],
   "source": [
    "xvals = list(range(len(fat_bin_counts)))\n",
    "labels = list(fat_bin_counts.keys())\n",
    "\n",
    "plt.bar(xvals,fat_bin_counts.values())\n",
    "xticks_pos = [x - .25 for x in xvals]\n",
    "plt.xticks(xticks_pos, labels, rotation='50')\n",
    "plt.title('Distribution of Fatal Shark Attacks by Activity')\n",
    "plt.ylabel('Count of occurrences')"
   ]
  },
  {
   "cell_type": "code",
   "execution_count": 114,
   "metadata": {},
   "outputs": [
    {
     "data": {
      "text/plain": [
       "<matplotlib.text.Text at 0x151aab30f28>"
      ]
     },
     "execution_count": 114,
     "metadata": {},
     "output_type": "execute_result"
    },
    {
     "data": {
      "image/png": "[encoded data removed]",
      "text/plain": [
       "<matplotlib.figure.Figure at 0x151a8567dd8>"
      ]
     },
     "metadata": {},
     "output_type": "display_data"
    }
   ],
   "source": [
    "xvals = list(range(len(not_fat_bin_counts)))\n",
    "labels = list(not_fat_bin_counts.keys())\n",
    "\n",
    "plt.bar(xvals,not_fat_bin_counts.values())\n",
    "xticks_pos = [x - .25 for x in xvals]\n",
    "plt.xticks(xticks_pos, labels, rotation='50')\n",
    "plt.title('Distribution of Non-Fatal Shark Attacks by Activity')\n",
    "plt.ylabel('Count of occurrences')"
   ]
  },
  {
   "cell_type": "code",
   "execution_count": 115,
   "metadata": {
    "collapsed": true
   },
   "outputs": [],
   "source": [
    "#Look at distribution of attacks by age and activity"
   ]
  },
  {
   "cell_type": "code",
   "execution_count": 118,
   "metadata": {},
   "outputs": [
    {
     "data": {
      "text/plain": [
       "<matplotlib.text.Text at 0x151aacaf320>"
      ]
     },
     "execution_count": 118,
     "metadata": {},
     "output_type": "execute_result"
    },
    {
     "data": {
      "image/png": "[encoded data removed]",
      "text/plain": [
       "<matplotlib.figure.Figure at 0x151aac84be0>"
      ]
     },
     "metadata": {},
     "output_type": "display_data"
    }
   ],
   "source": [
    "fig = plt.figure(figsize=(20,10))\n",
    "test = shark_attack_data[['ActBin','agebin']].groupby([\"ActBin\",'agebin']).size()\n",
    "test = pd.DataFrame(test)\n",
    "test = test.reset_index()\n",
    "test.columns = ['ActBin', 'AgeBin','Count']\n",
    "actlabels=['Boating','Fishing','Water Sports','Swimming','Other']\n",
    "sns.barplot(x=\"ActBin\", y=\"Count\", hue=\"AgeBin\", data=test);\n",
    "plt.title(\"Distribution of Shark Attacks in the U.S. by Age and Activity\")\n",
    "plt.ylabel(\"Number of Attacks since 1642\")\n",
    "plt.xlabel(\"Activity\")\n"
   ]
  },
  {
   "cell_type": "code",
   "execution_count": 154,
   "metadata": {},
   "outputs": [
    {
     "name": "stdout",
     "output_type": "stream",
     "text": [
      "A female shark attack victim has a 0.042471042471 chance of dying from the attack\n",
      "A male shark attack victim has a 0.107641741988 chance of dying from the attack\n"
     ]
    }
   ],
   "source": [
    "#Make a by-gender set\n",
    "by_gender = pd.DataFrame(shark_attack_data[['Sex','Fatal?']].groupby(['Sex','Fatal?']).size()).reset_index()\n",
    "by_gender.columns = ['Sex','Fatal?','Count']\n",
    "f_ratio = by_gender.iloc[0][2] / by_gender.iloc[1][2]\n",
    "m_ratio = by_gender.iloc[2][2] / by_gender.iloc[3][2]\n",
    "print('A female shark attack victim has a',f_ratio,'chance of dying from the attack') \n",
    "print('A male shark attack victim has a',m_ratio,'chance of dying from the attack') "
   ]
  },
  {
   "cell_type": "code",
   "execution_count": 155,
   "metadata": {},
   "outputs": [],
   "source": [
    "areas = shark_attack_data['Area'].value_counts().to_dict()"
   ]
  },
  {
   "cell_type": "code",
   "execution_count": 156,
   "metadata": {
    "collapsed": true
   },
   "outputs": [],
   "source": [
    "test = shark_attack_data[['Area','Fatal?']].groupby([\"Area\",'Fatal?']).size()\n",
    "test = pd.DataFrame(test)\n",
    "test = test.reset_index()\n",
    "test.columns = ['Area', 'isFatal','Count']"
   ]
  },
  {
   "cell_type": "code",
   "execution_count": null,
   "metadata": {
    "collapsed": true
   },
   "outputs": [],
   "source": []
  }
 ],
 "metadata": {
  "kernelspec": {
   "display_name": "Python 3",
   "language": "python",
   "name": "python3"
  },
  "language_info": {
   "codemirror_mode": {
    "name": "ipython",
    "version": 3
   },
   "file_extension": ".py",
   "mimetype": "text/x-python",
   "name": "python",
   "nbconvert_exporter": "python",
   "pygments_lexer": "ipython3",
   "version": "3.6.1"
  }
 },
 "nbformat": 4,
 "nbformat_minor": 2
}
